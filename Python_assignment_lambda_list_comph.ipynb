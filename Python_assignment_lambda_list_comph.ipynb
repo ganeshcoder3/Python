{
  "nbformat": 4,
  "nbformat_minor": 0,
  "metadata": {
    "colab": {
      "provenance": [],
      "authorship_tag": "ABX9TyMrxD1sY6DA2Mz0UziXzjhW",
      "include_colab_link": true
    },
    "kernelspec": {
      "name": "python3",
      "display_name": "Python 3"
    },
    "language_info": {
      "name": "python"
    }
  },
  "cells": [
    {
      "cell_type": "markdown",
      "metadata": {
        "id": "view-in-github",
        "colab_type": "text"
      },
      "source": [
        "<a href=\"https://colab.research.google.com/github/ganeshcoder3/Python/blob/main/Python_assignment_lambda_list_comph.ipynb\" target=\"_parent\"><img src=\"https://colab.research.google.com/assets/colab-badge.svg\" alt=\"Open In Colab\"/></a>"
      ]
    },
    {
      "cell_type": "markdown",
      "source": [
        "Basic Function Concepts (Single Return Values)"
      ],
      "metadata": {
        "id": "J0cbhl2IfbkC"
      }
    },
    {
      "cell_type": "code",
      "execution_count": 17,
      "metadata": {
        "colab": {
          "base_uri": "https://localhost:8080/",
          "height": 0
        },
        "id": "x-jDADOeXdq-",
        "outputId": "28e14429-057e-41f9-a863-9638cf2b44d0"
      },
      "outputs": [
        {
          "output_type": "stream",
          "name": "stdout",
          "text": [
            "Hello,Good Morning ganesh !\n"
          ]
        }
      ],
      "source": [
        "def wish(name):\n",
        "  print(f\"Hello,Good Morning {name} !\")\n",
        "wish(\"ganesh\")"
      ]
    },
    {
      "cell_type": "code",
      "source": [
        "def cube(n):\n",
        "  return n**3\n",
        "cube(n=3)"
      ],
      "metadata": {
        "colab": {
          "base_uri": "https://localhost:8080/",
          "height": 0
        },
        "id": "tDjBjTxIZMLv",
        "outputId": "53db403c-211e-4268-98f8-f8bb6b769395"
      },
      "execution_count": 18,
      "outputs": [
        {
          "output_type": "execute_result",
          "data": {
            "text/plain": [
              "27"
            ]
          },
          "metadata": {},
          "execution_count": 18
        }
      ]
    },
    {
      "cell_type": "code",
      "source": [
        "def check_even(n):\n",
        "  return n%2==0\n",
        "check_even(20)"
      ],
      "metadata": {
        "colab": {
          "base_uri": "https://localhost:8080/",
          "height": 0
        },
        "id": "4Appe64UZqRu",
        "outputId": "9f715cdf-deb9-406e-ec21-060d02bedd8a"
      },
      "execution_count": 24,
      "outputs": [
        {
          "output_type": "execute_result",
          "data": {
            "text/plain": [
              "True"
            ]
          },
          "metadata": {},
          "execution_count": 24
        }
      ]
    },
    {
      "cell_type": "code",
      "source": [
        "def greatest_of_two(a,b):\n",
        "  if (a>b):\n",
        "    return a\n",
        "  else:\n",
        "    return b\n",
        "greatest_of_two(1,2)"
      ],
      "metadata": {
        "colab": {
          "base_uri": "https://localhost:8080/",
          "height": 0
        },
        "id": "DZFAJxXiarq1",
        "outputId": "6b4c6b85-bec1-4717-cc85-f94c100f0f21"
      },
      "execution_count": 27,
      "outputs": [
        {
          "output_type": "execute_result",
          "data": {
            "text/plain": [
              "2"
            ]
          },
          "metadata": {},
          "execution_count": 27
        }
      ]
    },
    {
      "cell_type": "code",
      "source": [
        "def count_letters(s):\n",
        "  return len(s)\n",
        "count_letters(\"ganesh\")"
      ],
      "metadata": {
        "colab": {
          "base_uri": "https://localhost:8080/",
          "height": 0
        },
        "id": "BEoSZIMRbgds",
        "outputId": "983bd479-8dff-4081-e323-f956542370c6"
      },
      "execution_count": 29,
      "outputs": [
        {
          "output_type": "execute_result",
          "data": {
            "text/plain": [
              "6"
            ]
          },
          "metadata": {},
          "execution_count": 29
        }
      ]
    },
    {
      "cell_type": "code",
      "source": [
        "def power(value,exp=2):\n",
        "  return value**exp\n",
        "power(2)"
      ],
      "metadata": {
        "colab": {
          "base_uri": "https://localhost:8080/",
          "height": 0
        },
        "id": "fmxp_yIkb-45",
        "outputId": "ab95880e-c214-4a86-cd68-725785d46b31"
      },
      "execution_count": 34,
      "outputs": [
        {
          "output_type": "execute_result",
          "data": {
            "text/plain": [
              "4"
            ]
          },
          "metadata": {},
          "execution_count": 34
        }
      ]
    },
    {
      "cell_type": "markdown",
      "source": [
        "Returning Multiple Values"
      ],
      "metadata": {
        "id": "i9JdJw54fkOb"
      }
    },
    {
      "cell_type": "code",
      "source": [
        "def swap(a,b):\n",
        "  return b,a\n",
        "swap(10,30)"
      ],
      "metadata": {
        "colab": {
          "base_uri": "https://localhost:8080/",
          "height": 0
        },
        "id": "Nt9q2HSJcjy0",
        "outputId": "de0f320e-0c99-4c86-bfc8-daaa255e0e9e"
      },
      "execution_count": 35,
      "outputs": [
        {
          "output_type": "execute_result",
          "data": {
            "text/plain": [
              "(30, 10)"
            ]
          },
          "metadata": {},
          "execution_count": 35
        }
      ]
    },
    {
      "cell_type": "code",
      "source": [
        "def add_sub(a,b):\n",
        "  return a+b,a-b\n",
        "add_sub(4,3)"
      ],
      "metadata": {
        "colab": {
          "base_uri": "https://localhost:8080/",
          "height": 0
        },
        "id": "iT557FzUc4ws",
        "outputId": "12d740fc-ee94-4617-f3cb-f707f77728e0"
      },
      "execution_count": 38,
      "outputs": [
        {
          "output_type": "execute_result",
          "data": {
            "text/plain": [
              "(7, 1)"
            ]
          },
          "metadata": {},
          "execution_count": 38
        }
      ]
    },
    {
      "cell_type": "code",
      "source": [
        "def circle_stats(radius):\n",
        "  area = 3.14*radius**2\n",
        "  circumference = 2*3.14*radius\n",
        "  return area, circumference\n",
        "circle_stats(3)"
      ],
      "metadata": {
        "colab": {
          "base_uri": "https://localhost:8080/",
          "height": 0
        },
        "id": "rYSxmVBxdT8N",
        "outputId": "33f41815-35d0-45e7-e0f4-97fe8c3c7efe"
      },
      "execution_count": 39,
      "outputs": [
        {
          "output_type": "execute_result",
          "data": {
            "text/plain": [
              "(28.26, 18.84)"
            ]
          },
          "metadata": {},
          "execution_count": 39
        }
      ]
    },
    {
      "cell_type": "code",
      "source": [
        "def min_max_sum(nums):\n",
        "  return min(nums),max(nums),sum(nums)\n",
        "min_max_sum([1,2,3])"
      ],
      "metadata": {
        "colab": {
          "base_uri": "https://localhost:8080/",
          "height": 0
        },
        "id": "Yd6Rx3ZEd7R6",
        "outputId": "f506a3f4-d747-49ad-cb5a-2f51825f55da"
      },
      "execution_count": 42,
      "outputs": [
        {
          "output_type": "execute_result",
          "data": {
            "text/plain": [
              "(1, 3, 6)"
            ]
          },
          "metadata": {},
          "execution_count": 42
        }
      ]
    },
    {
      "cell_type": "markdown",
      "source": [
        "Working with Strings & Formatting"
      ],
      "metadata": {
        "id": "62VSO4mbfsGj"
      }
    },
    {
      "cell_type": "code",
      "source": [
        "def concat(*parts):\n",
        "  return \" \"parts"
      ],
      "metadata": {
        "id": "2HNHZdtngOYN"
      },
      "execution_count": null,
      "outputs": []
    },
    {
      "cell_type": "code",
      "source": [
        "\n",
        "def format_name(first, last=\"\"):\n",
        "    if last:\n",
        "        return f\"{last}, {first}\"\n",
        "    else:\n",
        "        return first\n",
        "format_name(first=\"reddy\",last=\"ganesh\")"
      ],
      "metadata": {
        "colab": {
          "base_uri": "https://localhost:8080/",
          "height": 35
        },
        "id": "xrCzVR2dertl",
        "outputId": "a5bd9caf-16fc-45fb-b1dc-b32e7e0be0e2"
      },
      "execution_count": 43,
      "outputs": [
        {
          "output_type": "execute_result",
          "data": {
            "text/plain": [
              "'ganesh, reddy'"
            ],
            "application/vnd.google.colaboratory.intrinsic+json": {
              "type": "string"
            }
          },
          "metadata": {},
          "execution_count": 43
        }
      ]
    },
    {
      "cell_type": "code",
      "source": [
        "def greet_user(first, last):\n",
        "  return f\"Welcome, {first} {last}!\"\n",
        "greet_user(\"ganesh\" , \"reddy\")"
      ],
      "metadata": {
        "colab": {
          "base_uri": "https://localhost:8080/",
          "height": 35
        },
        "id": "9fEtJa64gW2e",
        "outputId": "05d169ca-435c-432d-e2aa-14fa23c8a773"
      },
      "execution_count": 47,
      "outputs": [
        {
          "output_type": "execute_result",
          "data": {
            "text/plain": [
              "'Welcome, ganesh reddy!'"
            ],
            "application/vnd.google.colaboratory.intrinsic+json": {
              "type": "string"
            }
          },
          "metadata": {},
          "execution_count": 47
        }
      ]
    },
    {
      "cell_type": "markdown",
      "source": [
        "Lambda Functions"
      ],
      "metadata": {
        "id": "YwPfvegkhCgz"
      }
    },
    {
      "cell_type": "code",
      "source": [
        "add = lambda a,b:a+b\n",
        "print(add(1,3))"
      ],
      "metadata": {
        "colab": {
          "base_uri": "https://localhost:8080/",
          "height": 0
        },
        "id": "KttlE0tNhFkp",
        "outputId": "f0c21dbd-c00f-4603-eb43-2fc634c3963f"
      },
      "execution_count": 50,
      "outputs": [
        {
          "output_type": "stream",
          "name": "stdout",
          "text": [
            "4\n"
          ]
        }
      ]
    },
    {
      "cell_type": "code",
      "source": [
        "import math\n",
        "mult = lambda*args:math.prod(args)\n",
        "print(mult(1,2,3))"
      ],
      "metadata": {
        "colab": {
          "base_uri": "https://localhost:8080/",
          "height": 0
        },
        "id": "sIH-ZG8RjzOA",
        "outputId": "88fc65ef-feb0-40b7-9566-c29f19213056"
      },
      "execution_count": 56,
      "outputs": [
        {
          "output_type": "stream",
          "name": "stdout",
          "text": [
            "6\n"
          ]
        }
      ]
    },
    {
      "cell_type": "code",
      "source": [
        "list = [(a,b) , (c,d)]\n",
        "print(list in combine)"
      ],
      "metadata": {
        "id": "rxDfbqWNkpDV"
      },
      "execution_count": null,
      "outputs": []
    },
    {
      "cell_type": "markdown",
      "source": [
        "Recursive, Higher-Order & Inner Functions"
      ],
      "metadata": {
        "id": "SNtWEWRCk20w"
      }
    },
    {
      "cell_type": "code",
      "source": [
        "def factorial(n):\n",
        "  if n==0 or n==1:\n",
        "    return 1\n",
        "  else:\n",
        "    return n * factorial(n-1)\n",
        "factorial(10)"
      ],
      "metadata": {
        "colab": {
          "base_uri": "https://localhost:8080/",
          "height": 0
        },
        "id": "VF3sbmVEk3ec",
        "outputId": "063d4690-5257-4967-a271-ac361cddcc6a"
      },
      "execution_count": 63,
      "outputs": [
        {
          "output_type": "execute_result",
          "data": {
            "text/plain": [
              "3628800"
            ]
          },
          "metadata": {},
          "execution_count": 63
        }
      ]
    },
    {
      "cell_type": "code",
      "source": [
        "def apply_twice(func,x):\n",
        "  twice = func\n",
        "  print (func(func(x)))\n",
        "apply_twice(int,5)"
      ],
      "metadata": {
        "colab": {
          "base_uri": "https://localhost:8080/",
          "height": 0
        },
        "id": "WRgOt3o1ljs1",
        "outputId": "cbaee1b3-4995-4461-b1c5-c2d596cadc02"
      },
      "execution_count": 72,
      "outputs": [
        {
          "output_type": "stream",
          "name": "stdout",
          "text": [
            "5\n"
          ]
        }
      ]
    },
    {
      "cell_type": "code",
      "source": [
        "def inner_demo():\n",
        "\n",
        "    def multiply_by_two(x):\n",
        "        return x*2\n",
        "\n",
        "    # Call the inner function\n",
        "    result = multiply_by_two(10)\n",
        "    print(f\"10 multiplied by 2 is: {result}\")\n",
        "\n",
        "    return result\n",
        "\n",
        "# Call the function\n",
        "inner_demo()"
      ],
      "metadata": {
        "colab": {
          "base_uri": "https://localhost:8080/",
          "height": 0
        },
        "id": "TrDleTTtnGql",
        "outputId": "89172645-380c-469f-fea3-278f2447781f"
      },
      "execution_count": 73,
      "outputs": [
        {
          "output_type": "stream",
          "name": "stdout",
          "text": [
            "10 multiplied by 2 is: 20\n"
          ]
        },
        {
          "output_type": "execute_result",
          "data": {
            "text/plain": [
              "20"
            ]
          },
          "metadata": {},
          "execution_count": 73
        }
      ]
    },
    {
      "cell_type": "markdown",
      "source": [
        "Intermediate Function Concepts"
      ],
      "metadata": {
        "id": "SPm9O8vXoJcL"
      }
    },
    {
      "cell_type": "code",
      "source": [
        "def make_multiplier(m):\n",
        "    def multiplier(x):\n",
        "        return x * m\n",
        "    return multiplier"
      ],
      "metadata": {
        "id": "-Pl5Qq29oKWF"
      },
      "execution_count": 76,
      "outputs": []
    },
    {
      "cell_type": "code",
      "source": [
        "def filter_primes(nums):\n",
        "    def is_prime(n):\n",
        "        if n < 2:\n",
        "            return False\n",
        "        for i in range(2, int(n**0.5) + 1):\n",
        "            if n % i == 0:\n",
        "                return False\n",
        "        return True\n",
        "    return list(filter(is_prime, nums))\n",
        "\n",
        "print(filter_primes([2,13,21,55,64,89]))"
      ],
      "metadata": {
        "colab": {
          "base_uri": "https://localhost:8080/",
          "height": 0
        },
        "id": "g0yqwQato4ps",
        "outputId": "09e28a92-5861-4c63-a521-fead77e8d414"
      },
      "execution_count": 79,
      "outputs": [
        {
          "output_type": "stream",
          "name": "stdout",
          "text": [
            "[2, 13, 89]\n"
          ]
        }
      ]
    },
    {
      "cell_type": "code",
      "source": [
        "\n",
        "def convert_to_fahrenheit(celsius_list):\n",
        "    return list(map(lambda c: c * 9/5 + 32, celsius_list))\n",
        "\n",
        "print(convert_to_fahrenheit([456, 89, 21]))"
      ],
      "metadata": {
        "colab": {
          "base_uri": "https://localhost:8080/",
          "height": 0
        },
        "id": "6ZOP50gqpeSo",
        "outputId": "82481397-b846-4414-d5fe-e9e77e241620"
      },
      "execution_count": 80,
      "outputs": [
        {
          "output_type": "stream",
          "name": "stdout",
          "text": [
            "[852.8, 192.2, 69.8]\n"
          ]
        }
      ]
    },
    {
      "cell_type": "code",
      "source": [
        "\n",
        "def sort_by_length(strings):\n",
        "    return sorted(strings, key=lambda s: len(s))\n",
        "print(sort_by_length(['apple', 'banana', 'cherry', 'date']))"
      ],
      "metadata": {
        "colab": {
          "base_uri": "https://localhost:8080/",
          "height": 0
        },
        "id": "Z-q6NBEbp90h",
        "outputId": "9f377a8f-e80e-4df2-ca2d-5e320815124c"
      },
      "execution_count": 81,
      "outputs": [
        {
          "output_type": "stream",
          "name": "stdout",
          "text": [
            "['date', 'apple', 'banana', 'cherry']\n"
          ]
        }
      ]
    },
    {
      "cell_type": "markdown",
      "source": [
        "List Comprehensions"
      ],
      "metadata": {
        "id": "h1AUdO86qHEu"
      }
    },
    {
      "cell_type": "code",
      "source": [
        "squares = [x**2 for x in [1, 2, 3, 4]]\n",
        "print(squares)"
      ],
      "metadata": {
        "colab": {
          "base_uri": "https://localhost:8080/",
          "height": 0
        },
        "id": "OBe26z9CqKCg",
        "outputId": "8191be16-230c-4a25-deb9-000c2e62081d"
      },
      "execution_count": 82,
      "outputs": [
        {
          "output_type": "stream",
          "name": "stdout",
          "text": [
            "[1, 4, 9, 16]\n"
          ]
        }
      ]
    },
    {
      "cell_type": "code",
      "source": [
        "uppercase = [x.upper() for x in ['a','b','c']]\n",
        "print(uppercase)"
      ],
      "metadata": {
        "colab": {
          "base_uri": "https://localhost:8080/",
          "height": 0
        },
        "id": "0_gjix5dqX_E",
        "outputId": "d2220e8a-0551-4923-defe-0d9819b039b8"
      },
      "execution_count": 84,
      "outputs": [
        {
          "output_type": "stream",
          "name": "stdout",
          "text": [
            "['A', 'B', 'C']\n"
          ]
        }
      ]
    },
    {
      "cell_type": "code",
      "source": [
        "even_nums = [x for x in range (1,21) if x%2==0 ]\n",
        "print(even_nums)"
      ],
      "metadata": {
        "colab": {
          "base_uri": "https://localhost:8080/",
          "height": 0
        },
        "id": "aQ0Agb3sqzh-",
        "outputId": "07570cf5-0bc6-40f5-adfd-d4cdf4411363"
      },
      "execution_count": 88,
      "outputs": [
        {
          "output_type": "stream",
          "name": "stdout",
          "text": [
            "[2, 4, 6, 8, 10, 12, 14, 16, 18, 20]\n"
          ]
        }
      ]
    },
    {
      "cell_type": "code",
      "source": [
        "words = ['apple', 'bee', 'cat']\n",
        "word_lengths = [(word, len(word)) for word in words]\n",
        "print(word_lengths)"
      ],
      "metadata": {
        "colab": {
          "base_uri": "https://localhost:8080/",
          "height": 0
        },
        "id": "wuILC7BqrgaF",
        "outputId": "a58e3aa2-406e-4207-a387-02b2416df82c"
      },
      "execution_count": 93,
      "outputs": [
        {
          "output_type": "stream",
          "name": "stdout",
          "text": [
            "[('apple', 5), ('bee', 3), ('cat', 3)]\n"
          ]
        }
      ]
    },
    {
      "cell_type": "code",
      "source": [
        "nums = [n for n in range(4)]\n",
        "even_odd = ['even' if n%2 == 0 else 'odd' for n in nums]\n",
        "print(even_odd)"
      ],
      "metadata": {
        "colab": {
          "base_uri": "https://localhost:8080/",
          "height": 0
        },
        "id": "dQtFG04ns886",
        "outputId": "5088f0bc-abb6-49dc-9d95-fd1095ad8509"
      },
      "execution_count": 92,
      "outputs": [
        {
          "output_type": "stream",
          "name": "stdout",
          "text": [
            "['even', 'odd', 'even', 'odd']\n"
          ]
        }
      ]
    },
    {
      "cell_type": "code",
      "source": [
        "\n",
        "def is_prime(n):\n",
        "    return n > 1 and all(n % i != 0 for i in range(2, int(n**0.5)+1))\n",
        "primes_bool = [is_prime(n) for n in [2, 3, 4, 5, 6, 7]]\n",
        "primes_bool"
      ],
      "metadata": {
        "colab": {
          "base_uri": "https://localhost:8080/",
          "height": 0
        },
        "id": "4D08u3pgtcnD",
        "outputId": "a8b997d4-5e1d-4b97-9cfb-7bc2ff2a35ed"
      },
      "execution_count": 95,
      "outputs": [
        {
          "output_type": "execute_result",
          "data": {
            "text/plain": [
              "[True, True, False, True, False, True]"
            ]
          },
          "metadata": {},
          "execution_count": 95
        }
      ]
    },
    {
      "cell_type": "code",
      "source": [
        "phrases = ['a b','c d e']\n",
        "flat_words = [word for phrase in phrases for word in phrase.split()]\n",
        "print(flat_words)"
      ],
      "metadata": {
        "colab": {
          "base_uri": "https://localhost:8080/",
          "height": 0
        },
        "id": "3a2BIJ0ut81f",
        "outputId": "16d23108-2792-47a2-d416-e9aceaf581a8"
      },
      "execution_count": 96,
      "outputs": [
        {
          "output_type": "stream",
          "name": "stdout",
          "text": [
            "['a', 'b', 'c', 'd', 'e']\n"
          ]
        }
      ]
    },
    {
      "cell_type": "markdown",
      "source": [
        "Using Lists of Dictionaries"
      ],
      "metadata": {
        "id": "um2GfxbwuFGC"
      }
    },
    {
      "cell_type": "code",
      "source": [
        "Given_students = [{'name':'A','score':80}, {'name':'B','score':60}]\n",
        "passed_students = [student['name'] for student in Given_students if student['score'] >= 75]\n",
        "print(passed_students)"
      ],
      "metadata": {
        "colab": {
          "base_uri": "https://localhost:8080/",
          "height": 0
        },
        "id": "9HekW6UcuJnI",
        "outputId": "31023a79-3bc1-45ba-fc27-fe890c94fbf9"
      },
      "execution_count": 97,
      "outputs": [
        {
          "output_type": "stream",
          "name": "stdout",
          "text": [
            "['A']\n"
          ]
        }
      ]
    },
    {
      "cell_type": "code",
      "source": [
        "dict_list = [{'n': n, 'square': n*n} for n in range(1, 11)]\n",
        "print(dict_list)"
      ],
      "metadata": {
        "colab": {
          "base_uri": "https://localhost:8080/",
          "height": 0
        },
        "id": "HtpERIAausLc",
        "outputId": "00c2fe72-546e-45bf-ca6c-34c7271c3424"
      },
      "execution_count": 98,
      "outputs": [
        {
          "output_type": "stream",
          "name": "stdout",
          "text": [
            "[{'n': 1, 'square': 1}, {'n': 2, 'square': 4}, {'n': 3, 'square': 9}, {'n': 4, 'square': 16}, {'n': 5, 'square': 25}, {'n': 6, 'square': 36}, {'n': 7, 'square': 49}, {'n': 8, 'square': 64}, {'n': 9, 'square': 81}, {'n': 10, 'square': 100}]\n"
          ]
        }
      ]
    },
    {
      "cell_type": "code",
      "source": [
        "list1, list2 = [1, '', 3], [\"a\", \"b\", None]\n",
        "pairs = [(a, b) for a, b in zip(list1, list2) if a and b]\n",
        "print(pairs)"
      ],
      "metadata": {
        "colab": {
          "base_uri": "https://localhost:8080/",
          "height": 0
        },
        "id": "9PUFfIbuu0IG",
        "outputId": "ba175e4f-8dd9-417e-a1ca-54ade6f0bd7c"
      },
      "execution_count": 99,
      "outputs": [
        {
          "output_type": "stream",
          "name": "stdout",
          "text": [
            "[(1, 'a')]\n"
          ]
        }
      ]
    },
    {
      "cell_type": "code",
      "source": [
        "matrix = [[1,2,3],[4,5,6]]\n",
        "transposed = [[row[i] for row in matrix] for i in range(len(matrix[0]))]\n",
        "print(transposed)"
      ],
      "metadata": {
        "colab": {
          "base_uri": "https://localhost:8080/",
          "height": 0
        },
        "id": "RiVzeiJKu3aF",
        "outputId": "6a614c51-880f-44e5-e8ba-a49f024b53d9"
      },
      "execution_count": 100,
      "outputs": [
        {
          "output_type": "stream",
          "name": "stdout",
          "text": [
            "[[1, 4], [2, 5], [3, 6]]\n"
          ]
        }
      ]
    },
    {
      "cell_type": "markdown",
      "source": [
        "Advanced Comprehensions"
      ],
      "metadata": {
        "id": "Q8UPDUHku7G3"
      }
    },
    {
      "cell_type": "code",
      "source": [
        "nested_list = [[[1,2],[3]],[[4]]]\n",
        "flat_list = [item for sublist in nested_list for sublist2 in sublist for item in sublist2]\n",
        "print(flat_list)"
      ],
      "metadata": {
        "colab": {
          "base_uri": "https://localhost:8080/",
          "height": 0
        },
        "id": "GOWidDcnu-l5",
        "outputId": "31ac2bf8-5be3-4b13-e2cd-bbfee924262e"
      },
      "execution_count": 101,
      "outputs": [
        {
          "output_type": "stream",
          "name": "stdout",
          "text": [
            "[1, 2, 3, 4]\n"
          ]
        }
      ]
    },
    {
      "cell_type": "code",
      "source": [
        "list_with_duplicates = [1, 2, 2, 3,7,7, 4, 4, 5]\n",
        "unique_list = [item for i, item in enumerate(list_with_duplicates) if item not in list_with_duplicates[:i]]\n",
        "print(unique_list)"
      ],
      "metadata": {
        "colab": {
          "base_uri": "https://localhost:8080/",
          "height": 0
        },
        "id": "Hw0fHNoEvERz",
        "outputId": "535c3710-06a9-4c1e-accc-30ec89b1611f"
      },
      "execution_count": 102,
      "outputs": [
        {
          "output_type": "stream",
          "name": "stdout",
          "text": [
            "[1, 2, 3, 7, 4, 5]\n"
          ]
        }
      ]
    },
    {
      "cell_type": "code",
      "source": [
        "unq_list = [1, 2, 2, 3, 7, 7, 4, 4, 5]\n",
        "indices = [i for i, item in enumerate(unq_list) if item == 7]\n",
        "print(indices)"
      ],
      "metadata": {
        "colab": {
          "base_uri": "https://localhost:8080/",
          "height": 0
        },
        "id": "PyVKzWaevHc1",
        "outputId": "bc3929d0-ff23-4a5e-c3cc-5bd01b2a61ec"
      },
      "execution_count": 103,
      "outputs": [
        {
          "output_type": "stream",
          "name": "stdout",
          "text": [
            "[4, 5]\n"
          ]
        }
      ]
    },
    {
      "cell_type": "code",
      "source": [
        "Palindromes = [str(n) for n in range(1, 1000) if str(n) == str(n)[::-1]]\n",
        "print(Palindromes)"
      ],
      "metadata": {
        "colab": {
          "base_uri": "https://localhost:8080/",
          "height": 0
        },
        "id": "WxZh-qsPvK_C",
        "outputId": "03d0239c-3457-4f26-a977-bee08edb0883"
      },
      "execution_count": 104,
      "outputs": [
        {
          "output_type": "stream",
          "name": "stdout",
          "text": [
            "['1', '2', '3', '4', '5', '6', '7', '8', '9', '11', '22', '33', '44', '55', '66', '77', '88', '99', '101', '111', '121', '131', '141', '151', '161', '171', '181', '191', '202', '212', '222', '232', '242', '252', '262', '272', '282', '292', '303', '313', '323', '333', '343', '353', '363', '373', '383', '393', '404', '414', '424', '434', '444', '454', '464', '474', '484', '494', '505', '515', '525', '535', '545', '555', '565', '575', '585', '595', '606', '616', '626', '636', '646', '656', '666', '676', '686', '696', '707', '717', '727', '737', '747', '757', '767', '777', '787', '797', '808', '818', '828', '838', '848', '858', '868', '878', '888', '898', '909', '919', '929', '939', '949', '959', '969', '979', '989', '999']\n"
          ]
        }
      ]
    },
    {
      "cell_type": "code",
      "source": [
        "dict_to_list = {'a':[1,2], 'b':[3]}\n",
        "list_of_tuples = [(key, val) for key, val in dict_to_list.items()]\n",
        "print(list_of_tuples)"
      ],
      "metadata": {
        "colab": {
          "base_uri": "https://localhost:8080/",
          "height": 0
        },
        "id": "7QhSJMtavOi2",
        "outputId": "33625558-da4f-451e-a48f-71e358d67e8b"
      },
      "execution_count": 106,
      "outputs": [
        {
          "output_type": "stream",
          "name": "stdout",
          "text": [
            "[('a', [1, 2]), ('b', [3])]\n"
          ]
        }
      ]
    },
    {
      "cell_type": "code",
      "source": [
        "prime_pairs = [(p, q) for p in range(2, 100) if all(p % i != 0 for i in range(2, int(p**0.5)+1))\n",
        "               for q in range(2) if all(q % i != 0 for i in range(2, int(q**0.5)+1))\n",
        "               if all(p + q % i != 0 for i in range(2, int((p + q)**0.5)+1))]\n",
        "print(prime_pairs)"
      ],
      "metadata": {
        "colab": {
          "base_uri": "https://localhost:8080/",
          "height": 0
        },
        "id": "mQ0fX2e8vTW_",
        "outputId": "cdb69a1b-fcac-47ad-a600-b153a802ed0e"
      },
      "execution_count": 107,
      "outputs": [
        {
          "output_type": "stream",
          "name": "stdout",
          "text": [
            "[(2, 0), (2, 1), (3, 0), (3, 1), (5, 0), (5, 1), (7, 0), (7, 1), (11, 0), (11, 1), (13, 0), (13, 1), (17, 0), (17, 1), (19, 0), (19, 1), (23, 0), (23, 1), (29, 0), (29, 1), (31, 0), (31, 1), (37, 0), (37, 1), (41, 0), (41, 1), (43, 0), (43, 1), (47, 0), (47, 1), (53, 0), (53, 1), (59, 0), (59, 1), (61, 0), (61, 1), (67, 0), (67, 1), (71, 0), (71, 1), (73, 0), (73, 1), (79, 0), (79, 1), (83, 0), (83, 1), (89, 0), (89, 1), (97, 0), (97, 1)]\n"
          ]
        }
      ]
    },
    {
      "cell_type": "code",
      "source": [
        "n = 5\n",
        "low_triangle_matrix = [[1 if j <= i else 0 for j in range(n)] for i in range(n)]\n",
        "print(low_triangle_matrix)"
      ],
      "metadata": {
        "colab": {
          "base_uri": "https://localhost:8080/",
          "height": 0
        },
        "id": "Ev_jOSqRvXmg",
        "outputId": "50ac1f7a-6c7c-4b22-8433-0f1e3a4389a3"
      },
      "execution_count": 109,
      "outputs": [
        {
          "output_type": "stream",
          "name": "stdout",
          "text": [
            "[[1, 0, 0, 0, 0], [1, 1, 0, 0, 0], [1, 1, 1, 0, 0], [1, 1, 1, 1, 0], [1, 1, 1, 1, 1]]\n"
          ]
        }
      ]
    }
  ]
}